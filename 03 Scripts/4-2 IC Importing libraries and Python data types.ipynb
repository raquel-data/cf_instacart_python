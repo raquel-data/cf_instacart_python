{
 "cells": [
  {
   "cell_type": "markdown",
   "id": "e8b8c7ea",
   "metadata": {},
   "source": [
    "# Table of contents:\n",
    "#### 1. Importing libraries\n",
    "#### 2. Data Types"
   ]
  },
  {
   "cell_type": "markdown",
   "id": "674192b2",
   "metadata": {},
   "source": [
    "# 1. Importing libraries"
   ]
  },
  {
   "cell_type": "code",
   "execution_count": 3,
   "id": "4c874e8b",
   "metadata": {},
   "outputs": [],
   "source": [
    "# Import libraries\n",
    "import pandas as pd\n",
    "import numpy as np\n",
    "import os"
   ]
  },
  {
   "cell_type": "markdown",
   "id": "422cf813",
   "metadata": {},
   "source": [
    "# 2. Data types"
   ]
  },
  {
   "cell_type": "code",
   "execution_count": 4,
   "id": "7d0688e9",
   "metadata": {},
   "outputs": [
    {
     "name": "stdout",
     "output_type": "stream",
     "text": [
      "x = 100\n",
      "y = 100\n",
      "z = 100\n"
     ]
    }
   ],
   "source": [
    "x= 50 * 2\n",
    "print('x =',x)\n",
    "y = 125 - 25 \n",
    "print ('y =', y)\n",
    "z = 98 + 2 \n",
    "print ('z =', z)"
   ]
  },
  {
   "cell_type": "code",
   "execution_count": 5,
   "id": "e64b5cc7",
   "metadata": {},
   "outputs": [
    {
     "name": "stdout",
     "output_type": "stream",
     "text": [
      "3.2608695652173916\n"
     ]
    }
   ],
   "source": [
    "a=7.5\n",
    "b=2.3\n",
    "c = a/b\n",
    "print (c)"
   ]
  },
  {
   "cell_type": "code",
   "execution_count": 12,
   "id": "8bb2b418",
   "metadata": {},
   "outputs": [
    {
     "data": {
      "text/plain": [
       "'Hola, que tal?'"
      ]
     },
     "execution_count": 12,
     "metadata": {},
     "output_type": "execute_result"
    }
   ],
   "source": [
    "d = 'Hola, '\n",
    "e = 'que tal?'\n",
    "d + e "
   ]
  },
  {
   "cell_type": "code",
   "execution_count": 1,
   "id": "8cda404f",
   "metadata": {},
   "outputs": [
    {
     "data": {
      "text/plain": [
       "'<3<3<3<3<3<3<3<3<3<3<3<3<3<3<3<3<3<3<3<3<3<3<3<3<3<3<3<3<3<3<3<3<3<3<3<3<3<3<3<3<3<3<3<3<3<3<3<3<3<3<3<3<3<3<3<3<3<3<3<3<3<3<3<3<3<3<3<3<3<3<3<3<3<3<3<3<3<3<3<3<3<3<3<3<3<3<3<3<3<3<3<3<3<3<3<3<3<3<3<3'"
      ]
     },
     "execution_count": 1,
     "metadata": {},
     "output_type": "execute_result"
    }
   ],
   "source": [
    "heart = '<3'\n",
    "heart * 100"
   ]
  }
 ],
 "metadata": {
  "kernelspec": {
   "display_name": "Python 3 (ipykernel)",
   "language": "python",
   "name": "python3"
  },
  "language_info": {
   "codemirror_mode": {
    "name": "ipython",
    "version": 3
   },
   "file_extension": ".py",
   "mimetype": "text/x-python",
   "name": "python",
   "nbconvert_exporter": "python",
   "pygments_lexer": "ipython3",
   "version": "3.11.4"
  }
 },
 "nbformat": 4,
 "nbformat_minor": 5
}
